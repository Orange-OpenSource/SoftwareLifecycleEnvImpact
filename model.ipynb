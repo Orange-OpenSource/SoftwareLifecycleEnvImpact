{
 "cells": [
  {
   "cell_type": "markdown",
   "metadata": {
    "collapsed": false
   },
   "source": [
    "# Constants"
   ]
  },
  {
   "cell_type": "markdown",
   "metadata": {},
   "source": [
    "Values computed in [constants.ipynb](./constants.ipynb)"
   ]
  },
  {
   "cell_type": "code",
   "execution_count": 55,
   "metadata": {
    "collapsed": false,
    "pycharm": {
     "name": "#%%\n"
    }
   },
   "outputs": [],
   "source": [
    "TRANSPORT_DAY_PERSON = 6.583113447812\n",
    "OFFICE_DAY_PERSON = 5.495107632093934\n",
    "MAN_DAY_CO2 = TRANSPORT_DAY_PERSON + OFFICE_DAY_PERSON\n",
    "\n",
    "SERVER_DAY = 2.9480188516448917\n",
    "CO2_GB = 0.0015\n",
    "DISK_DAY = 0.013110912000000002\n",
    "\n",
    "USER_HOUR_CO2 = 0.026848423462431416"
   ]
  },
  {
   "cell_type": "markdown",
   "metadata": {},
   "source": [
    "# Model"
   ]
  },
  {
   "cell_type": "code",
   "execution_count": 56,
   "metadata": {
    "collapsed": false,
    "pycharm": {
     "name": "#%%\n"
    }
   },
   "outputs": [],
   "source": [
    "%matplotlib inline\n",
    "import matplotlib.pyplot as plt\n",
    "from IPython import display\n",
    "import ipywidgets.widgets as widgets\n",
    "\n",
    "class Model:\n",
    "    \"\"\"\n",
    "    Software lifecycle carbon cost model class\n",
    "    \"\"\"\n",
    "    def __init__(self):\n",
    "        #Inputs\n",
    "        self.inputs = {\n",
    "            \"disks\": ModelInput(1000, 3000, 'Number of disks: '),\n",
    "            \"servers\" : ModelInput(100, 300, 'Number of servers : '),\n",
    "            \"data_transferred\" : ModelInput(1000000, 30000000, 'Data transferred: '),\n",
    "            \"user_hours\" : ModelInput(150000, 300000, 'Users hours:'),\n",
    "            \"spec\" : ModelInput(200, 300, 'Specifications man-days:'),\n",
    "            \"dev\" : ModelInput(2000, 3000, 'Dev man-days:'),\n",
    "            \"design\" : ModelInput(200, 3000, 'Design man-days:'),\n",
    "            \"test\" : ModelInput(200, 3000, 'Test man-days:'),\n",
    "            \"dev_servers\" : ModelInput(4, 30, 'Number of dev servers:'),\n",
    "            \"support\" : ModelInput(50, 300, 'Support man-days:'),\n",
    "            \"maintenance\" : ModelInput(500, 3000, 'Maintenance man-days:'),\n",
    "            \"run_length\" : ModelInput(1000, 3000, 'Run phase duration:'),\n",
    "            \"build_length\" : ModelInput(1500, 3000, 'Build phase duration:'),\n",
    "        }\n",
    "        self.project_length = None\n",
    "\n",
    "        # Outputs\n",
    "        self.network_co2 = None\n",
    "        self.management_co2 = None\n",
    "        self.support_co2 = None\n",
    "        self.servers_co2 = None\n",
    "        self.implementation_co2 = None\n",
    "        self.spec_co2 = None\n",
    "        self.test_co2 = None\n",
    "        self.design_co2 = None\n",
    "        self.dev_co2 = None\n",
    "        self.run_co2 = None\n",
    "        self.build_co2 = None\n",
    "        self.infra_dev_co2 = None\n",
    "        self.maintenance_co2 = None\n",
    "        self.storage_co2 = None\n",
    "        self.infra_co2 = None\n",
    "        self.user_co2 = None\n",
    "\n",
    "        self.compute()\n",
    "\n",
    "    def compute(self):\n",
    "        \"\"\"\n",
    "        Compute the phases carbon cost retrieving the inputs from the sliders\n",
    "        \"\"\"\n",
    "        self.project_length = self.inputs[\"run_length\"].get_value() - self.inputs[\"build_length\"].get_value()\n",
    "        self.compute_build()\n",
    "        self.compute_run()\n",
    "\n",
    "        \n",
    "    def compute_build(self):\n",
    "        \"\"\"\n",
    "        Compute the build phase outputs\n",
    "        \"\"\"\n",
    "\n",
    "        ## Requirement analysis and specifications\n",
    "        self.spec_co2 = self.inputs[\"spec\"].get_value() * MAN_DAY_CO2\n",
    "\n",
    "        ## Implementation\n",
    "        self.infra_dev_co2 = self.inputs[\"dev_servers\"].get_value() * SERVER_DAY * self.inputs[\"build_length\"].get_value()\n",
    "        self.dev_co2 = self.inputs[\"dev\"].get_value() * MAN_DAY_CO2\n",
    "        self.design_co2 = self.inputs[\"design\"].get_value() * MAN_DAY_CO2\n",
    "        self.test_co2 = self.inputs[\"test\"].get_value() * MAN_DAY_CO2\n",
    "        self.implementation_co2 = self.inputs[\"dev\"].get_value() * MAN_DAY_CO2 + self.infra_dev_co2\n",
    "\n",
    "        # Management\n",
    "        self.management_co2 = self.inputs[\"build_length\"].get_value() * MAN_DAY_CO2\n",
    "\n",
    "        # Global\n",
    "        self.build_co2 = self.spec_co2 + self.implementation_co2 + self.management_co2\n",
    "\n",
    "    def compute_run(self):\n",
    "        \"\"\"\n",
    "        Compute the run phase outputs\n",
    "        \"\"\"\n",
    "\n",
    "        # Support\n",
    "        self.support_co2 = self.inputs[\"support\"].get_value() * MAN_DAY_CO2\n",
    "\n",
    "        # Maintenance\n",
    "        self.maintenance_co2 = self.inputs[\"maintenance\"].get_value() * MAN_DAY_CO2\n",
    "\n",
    "        # Infra\n",
    "        self.network_co2 = self.inputs[\"data_transferred\"].get_value() * CO2_GB\n",
    "        self.servers_co2 = self.inputs[\"servers\"].get_value() * self.inputs[\"run_length\"].get_value() * SERVER_DAY\n",
    "        self.storage_co2 = self.inputs[\"disks\"].get_value() * self.inputs[\"run_length\"].get_value() * DISK_DAY\n",
    "\n",
    "        self.infra_co2 = self.network_co2 + self.servers_co2 + self.storage_co2\n",
    "\n",
    "        # User\n",
    "        self.user_co2 = self.inputs[\"user_hours\"].get_value() * USER_HOUR_CO2\n",
    "\n",
    "        # Global\n",
    "        self.run_co2 = self.support_co2 + self.maintenance_co2 + self.infra_co2 + self.user_co2\n",
    "\n",
    "\n",
    "class ModelInput:\n",
    "    \"\"\"\n",
    "    Inputs from the model, gives sliders and corresponding values\n",
    "    \"\"\"\n",
    "    def __init__(self, value, max_value, desc):\n",
    "        style = {'description_width': 'initial'}\n",
    "        self.widget = widgets.IntSlider(min=0, max=max_value, value= value, description = desc, layout=widgets.Layout(width='400px'), style = style)\n",
    "\n",
    "    def get_value(self):\n",
    "        return self.widget.value"
   ]
  },
  {
   "cell_type": "markdown",
   "metadata": {},
   "source": [
    "# Output"
   ]
  },
  {
   "cell_type": "code",
   "execution_count": 57,
   "metadata": {},
   "outputs": [
    {
     "data": {
      "application/vnd.jupyter.widget-view+json": {
       "model_id": "e23e001490694d19be6fa2ac9e346b37",
       "version_major": 2,
       "version_minor": 0
      },
      "text/plain": [
       "HBox(children=(VBox(children=(VBox(children=(Text(value='Build: ', disabled=True), IntSlider(value=200, descri…"
      ]
     },
     "metadata": {},
     "output_type": "display_data"
    }
   ],
   "source": [
    "def draw_model(model: Model):\n",
    "    \"\"\"\n",
    "    Pie chart model representation\n",
    "    :param model: Model to pie\n",
    "    \"\"\"\n",
    "    fig1, ax1 = plt.subplots()\n",
    "    ax1.pie([model.build_co2, model.run_co2], labels=[\"Build\", \"Run\"])\n",
    "    ax1.set_title(\"Global\")\n",
    "\n",
    "    fig, ((ax2, ax3), (ax4, ax5)) = plt.subplots(2, 2, constrained_layout=True)\n",
    "    ax2.pie(\n",
    "        [model.spec_co2, model.implementation_co2, model.management_co2],\n",
    "        labels=[\"Spec\", \"Implementation\", \"Management\"],\n",
    "    )\n",
    "    ax2.set_title(\"Build\")\n",
    "    ax3.pie(\n",
    "        [model.dev_co2, model.design_co2, model.test_co2, model.infra_dev_co2],\n",
    "        labels=[\"Dev\", \"Design\", \"Test\", \"Infra\"],\n",
    "    )\n",
    "    ax3.set_title(\"Implementation\")\n",
    "\n",
    "    ax4.pie(\n",
    "        [model.support_co2, model.maintenance_co2, model.infra_co2, model.user_co2],\n",
    "        labels=[\"Support\", \"Maintenance\", \"Infra\", \"User\"],\n",
    "    )\n",
    "    ax4.set_title(\"Run\")\n",
    "    ax5.pie(\n",
    "        [model.network_co2, model.storage_co2, model.servers_co2],\n",
    "        labels=[\"Network\", \"Storage\", \"Compute\"],\n",
    "    )\n",
    "    ax5.set_title(\"Infra\")\n",
    "    plt.show()\n",
    "\n",
    "\n",
    "model = Model()\n",
    "\n",
    "# Button refresh\n",
    "button_refresh = widgets.Button(description=\"Refresh\")\n",
    "\n",
    "def on_button_clicked(b):\n",
    "    with out:\n",
    "        display.clear_output(True)\n",
    "        model.compute()\n",
    "        draw_model(model)\n",
    "\n",
    "button_refresh.on_click(on_button_clicked)\n",
    "\n",
    "# Sliders\n",
    "vbox_build = widgets.VBox(\n",
    "    [\n",
    "        widgets.Text(value=\"Build: \", disabled=True),\n",
    "        model.inputs[\"spec\"].widget,\n",
    "        model.inputs[\"dev\"].widget,\n",
    "        model.inputs[\"design\"].widget,\n",
    "        model.inputs[\"test\"].widget,\n",
    "        model.inputs[\"dev_servers\"].widget,\n",
    "        model.inputs[\"build_length\"].widget,\n",
    "    ]\n",
    ")\n",
    "\n",
    "vbox_run = widgets.VBox(\n",
    "    [\n",
    "        widgets.Text(value=\"Run: \", disabled=True),\n",
    "        model.inputs[\"disks\"].widget,\n",
    "        model.inputs[\"servers\"].widget,\n",
    "        model.inputs[\"data_transferred\"].widget,\n",
    "        model.inputs[\"user_hours\"].widget,\n",
    "        model.inputs[\"support\"].widget,\n",
    "        model.inputs[\"maintenance\"].widget,\n",
    "        model.inputs[\"run_length\"].widget,\n",
    "    ]\n",
    ")\n",
    "\n",
    "vbox_sliders = widgets.VBox([vbox_build, vbox_run, button_refresh])\n",
    "\n",
    "# Graph\n",
    "out = widgets.Output()\n",
    "with out:\n",
    "    draw_model(model)\n",
    "\n",
    "\n",
    "# Global\n",
    "widgets.HBox([vbox_sliders, out])"
   ]
  }
 ],
 "metadata": {
  "kernelspec": {
   "display_name": "Python 3",
   "language": "python",
   "name": "python3"
  },
  "language_info": {
   "codemirror_mode": {
    "name": "ipython",
    "version": 3
   },
   "file_extension": ".py",
   "mimetype": "text/x-python",
   "name": "python",
   "nbconvert_exporter": "python",
   "pygments_lexer": "ipython3",
   "version": "3.9.7"
  }
 },
 "nbformat": 4,
 "nbformat_minor": 0
}
