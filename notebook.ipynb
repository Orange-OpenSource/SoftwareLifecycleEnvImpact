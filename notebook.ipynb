{
 "cells": [
  {
   "cell_type": "markdown",
   "metadata": {
    "collapsed": false
   },
   "source": [
    "# Constants"
   ]
  },
  {
   "cell_type": "markdown",
   "metadata": {},
   "source": [
    "## Transport\n",
    "\n",
    "Ratio par jour à partir des modes de transport + distance des cadres\n",
    "\n",
    "- Moyenne distance travail cadre: 19km [Observatoire des territoires](https://www.observatoire-des-territoires.gouv.fr/kiosque/2019-mobilite-10-les-cadres-parcourent-chaque-annee-pres-de-3000-km-de-plus-que-les)\n",
    "- Ratio Déplacements cadres et professions intellectuelles, toutes activités dans un rayon de 80km: [INSEE](https://www.statistiques.developpement-durable.gouv.fr/resultats-detailles-de-lenquete-mobilite-des-personnes-de-2019?rubrique=60&dossier=1345)\n",
    "    1. Marche à pied: 1.3818\n",
    "    2. Vélo: 1.44675\n",
    "    3. Transport en commun: 17.77558\n",
    "    4. Voiture: 76.32407\n",
    "    5. Deux roues motorisé: 2.91722\n",
    "    6. Autre: 0.15459\n",
    "\n",
    "- Emissions transports:\n",
    "    - Voiture - Motorisation moyenne - 2018: \n",
    "        - 0.218 kg CO2-eq [ADEME](https://bilans-ges.ademe.fr/fr/basecarbone/donnees-consulter/liste-element/categorie/151)\n",
    "    - Vélo\n",
    "        - Moyenne fabrication [Trek](https://view.publitas.com/trek-bicycle/trek-bicycle-2021-sustainability-report/page/5): 174kg CO2\n",
    "        - 50 000km (voir notes)\n",
    "    - Métro, tramway, trolleybus - 2018 - Agglomération de 100 000 à 250 000 habitants\n",
    "        - 0.00503 kgCO2e/passager.km [ADEME](https://bilans-ges.ademe.fr/fr/accueil/documentation-gene/index/page/Ferroviaire2)\n",
    "    - Moto > 250 cm3 - Mixte - 2018 \n",
    "        - 0.191 kgCO2e/km [ADEME](https://bilans-ges.ademe.fr/fr/accueil/documentation-gene/index/page/Routier2)\n"
   ]
  },
  {
   "cell_type": "code",
   "execution_count": 10,
   "metadata": {},
   "outputs": [
    {
     "name": "stdout",
     "output_type": "stream",
     "text": [
      "6.583113447812\n"
     ]
    }
   ],
   "source": [
    "CAR_CO2_KM = 0.218\n",
    "BIKE_CO2_KM = 174 / 50000  # 0,00348\n",
    "PUBLIC_TRANSPORT_CO2_KM = 0.00503\n",
    "MOTORBIKE_CO2_KM = 0.191\n",
    "\n",
    "FOOT_PERCENTAGE = 1.3818\n",
    "BIKE_PERCENTAGE = 1.44675\n",
    "PUBLIC_TRANSPORT_PERCENTAGE = 17.77558\n",
    "CAR_PERCENTAGE = 76.32407 + 0.15459  # other categories (tractors...)\n",
    "MOTORBIKE_PERCENTAGE = 2.91722\n",
    "\n",
    "AVG_KM_DAY = 19 * 2\n",
    "\n",
    "mixed_emissions_km = (\n",
    "                             FOOT_PERCENTAGE * 0\n",
    "                             + BIKE_PERCENTAGE * BIKE_CO2_KM\n",
    "                             + PUBLIC_TRANSPORT_PERCENTAGE * PUBLIC_TRANSPORT_CO2_KM\n",
    "                             + CAR_PERCENTAGE * CAR_CO2_KM\n",
    "                             + MOTORBIKE_PERCENTAGE * MOTORBIKE_CO2_KM\n",
    "                     ) / 100\n",
    "\n",
    "transport_co2_person = mixed_emissions_km * AVG_KM_DAY\n",
    "print(transport_co2_person)"
   ]
  },
  {
   "cell_type": "markdown",
   "metadata": {},
   "source": [
    "## Buildings\n",
    "\n",
    "- Surface par salarié: 18 m2/poste avec un taux de bureaux de 70% [Legifrance](https://www.legifrance.gouv.fr/jorf/id/JORFTEXT000042994780)\n",
    "- ACV bureaux: 3,9 t eqCO2/m2 [Observatoire de l'immobilier durable](https://resources.taloen.fr/resources/documents/7765_191210_poids_carbone_ACV_vdef.pdf)\n",
    "    - 2,3t travaux\n",
    "    - 1,6t exploitation\n",
    "    - 50 ans d'utilisation"
   ]
  },
  {
   "cell_type": "code",
   "execution_count": 11,
   "metadata": {},
   "outputs": [
    {
     "name": "stdout",
     "output_type": "stream",
     "text": [
      "5.495107632093934\n"
     ]
    }
   ],
   "source": [
    "OFFICE_EMISSIONS_SQR_METER_DAY = 3900 / (50 * 365)  # 0,21\n",
    "# 18m2/office are 70% of the building\n",
    "office_co2_person = ((18 * 100) / 70) * OFFICE_EMISSIONS_SQR_METER_DAY\n",
    "\n",
    "print(office_co2_person)\n",
    "manday_co2 = office_co2_person + transport_co2_person"
   ]
  },
  {
   "cell_type": "markdown",
   "metadata": {},
   "source": [
    "## Servers\n",
    "\n",
    "- Electricité - 2020 - mix moyen - consommation: 0.0599 kgCO2e/kWh [ADEME](https://bilans-ges.ademe.fr/fr/accueil/documentation-gene/index/page/Electricite_reglementaire)\n",
    "- Serveur [Boavitza](https://github.com/Boavizta/environmental-footprint-data)\n",
    "    - Fabrication: 1613.25\n",
    "    - Life expectency: 3.89\n",
    "    - Conso RUN = 1100 (Orange) \n",
    "    - Conso IDLE = 234 (Orange)"
   ]
  },
  {
   "cell_type": "code",
   "execution_count": 12,
   "metadata": {},
   "outputs": [
    {
     "name": "stdout",
     "output_type": "stream",
     "text": [
      "2.9480188516448917\n"
     ]
    }
   ],
   "source": [
    "ELECTRICITY_MIX = 0.0599\n",
    "\n",
    "SERVER_POWER_IDLE = 234\n",
    "SERVER_POWER_RUN = 1100\n",
    "SERVER_LIFE = 3.89\n",
    "SERVER_FABRICATION_CO2 = 1613.25\n",
    "SERVER_USAGE  = 0.7\n",
    "PUE = 1.5\n",
    "\n",
    "amortization_day = SERVER_FABRICATION_CO2 / (SERVER_LIFE * 365)\n",
    "\n",
    "wh = (SERVER_POWER_RUN - SERVER_POWER_IDLE) * SERVER_USAGE + SERVER_POWER_IDLE\n",
    "wh_pue = wh * PUE\n",
    "kwh_day = (wh_pue * 24) / 1000\n",
    "server_day = kwh_day * ELECTRICITY_MIX + amortization_day\n",
    "print(server_day)"
   ]
  },
  {
   "cell_type": "markdown",
   "metadata": {},
   "source": [
    "## Disks\n",
    "\n",
    "- 250 kg CO2-eq pour un disque 4TO\n",
    "- 4 ans (Orange)\n",
    "- 0,89 W/h HDD, 1,52 W/h SSD pour 1 TO (Orange)"
   ]
  },
  {
   "cell_type": "code",
   "execution_count": 13,
   "metadata": {},
   "outputs": [
    {
     "name": "stdout",
     "output_type": "stream",
     "text": [
      "0.013110912000000002\n"
     ]
    }
   ],
   "source": [
    "HDD_TB_CONS = 0.89\n",
    "SSD_TB_CONS = 1.52\n",
    "\n",
    "DISK_SIZE = 4\n",
    "DISK_LIFE = 4\n",
    "DISK_FABRICATION_CO2 = 250\n",
    "\n",
    "wh_to = SSD_TB_CONS\n",
    "wh_disk = DISK_SIZE * wh_to\n",
    "wh_pue = wh_disk * PUE\n",
    "kwh_day = (wh_pue * 24) / 1000\n",
    "disk_day = kwh_day * ELECTRICITY_MIX\n",
    "\n",
    "print(disk_day)"
   ]
  },
  {
   "cell_type": "markdown",
   "metadata": {},
   "source": [
    "## Network\n",
    "\n",
    "- 1,5g / GO, (Orange)"
   ]
  },
  {
   "cell_type": "code",
   "execution_count": 14,
   "metadata": {},
   "outputs": [],
   "source": [
    "gb_co2 = 0.0015"
   ]
  },
  {
   "cell_type": "markdown",
   "metadata": {},
   "source": [
    "## Users\n",
    "\n",
    "- Smartphone: \n",
    "    - Par jour: \n",
    "        - 3,12h [Article](https://ieeexplore.ieee.org/abstract/document/6360448)\n",
    "        - 2,79 [Article](https://www.ncbi.nlm.nih.gov/pmc/articles/PMC7960745/)\n",
    "\n",
    "- Ordinateur portable :\n",
    "    - [ADEME](https://bilans-ges.ademe.fr/documentation/UPLOAD_DOC_FR/index.htm?ordinateurs_et_equuipements_pe.htm):\n",
    "        - 169 kg CO2-eq \n",
    "        - 5,6 ans [EU](https://www.eup-network.de/fileadmin/user_upload/Produktgruppen/Lots/Final_Documents/EuP_Lot3_PC_FinalReport.pdf)\n",
    "    - [Boavitza](https://github.com/Boavizta/environmental-footprint-data)\n",
    "        - 307.37 kg\n",
    "        - 4.34 ans\n",
    "\n",
    "Ratio 50/50 accès smartphone/laptop"
   ]
  },
  {
   "cell_type": "code",
   "execution_count": 15,
   "metadata": {},
   "outputs": [
    {
     "name": "stdout",
     "output_type": "stream",
     "text": [
      "0.0333428327821832\n"
     ]
    }
   ],
   "source": [
    "SMARTPHONE_CO2 = 88.75\n",
    "SMARTPHONE_LIFE = 2\n",
    "SMARTPHONE_DAILY_USE = 3.12\n",
    "\n",
    "LAPTOP_CO2 = 307.37\n",
    "LAPTOP_LIFE = 4.34\n",
    "PC_DAILY_USE = 7\n",
    "\n",
    "\n",
    "smartphone_day_co2 = SMARTPHONE_CO2 / (SMARTPHONE_LIFE * 365)\n",
    "smartphone_hour_co2 = smartphone_day_co2 / SMARTPHONE_DAILY_USE\n",
    "\n",
    "laptop_day_co2 = LAPTOP_CO2 / (LAPTOP_LIFE * 365)\n",
    "laptop_hour_co2 = laptop_day_co2 / PC_DAILY_USE\n",
    "\n",
    "user_hour_co2 = laptop_hour_co2 * 0.5 + smartphone_hour_co2 * 0.5\n",
    "\n",
    "print(user_hour_co2)"
   ]
  },
  {
   "cell_type": "code",
   "execution_count": 16,
   "metadata": {},
   "outputs": [
    {
     "name": "stdout",
     "output_type": "stream",
     "text": [
      "Transport/person/day =  6.583113447812\n",
      "Office/person/day =  5.495107632093934\n",
      "Man-day co2 =  12.078221079905934\n",
      "Server day =  2.9480188516448917\n",
      "CO2/Gb =  0.0015\n",
      "Disk day =  0.013110912000000002\n",
      "User hour co2 =  0.0333428327821832\n"
     ]
    }
   ],
   "source": [
    "print('Transport/person/day = ', transport_co2_person)\n",
    "print('Office/person/day = ', office_co2_person)\n",
    "print('Man-day co2 = ', manday_co2)\n",
    "\n",
    "print('Server day = ', server_day)\n",
    "print('CO2/Gb = ', gb_co2)\n",
    "print('Disk day = ', disk_day)\n",
    "\n",
    "print('User hour co2 = ', user_hour_co2)"
   ]
  },
  {
   "cell_type": "markdown",
   "metadata": {},
   "source": [
    "# Model"
   ]
  },
  {
   "cell_type": "code",
   "execution_count": 17,
   "metadata": {
    "collapsed": false,
    "pycharm": {
     "name": "#%%\n"
    }
   },
   "outputs": [],
   "source": [
    "%matplotlib inline\n",
    "import matplotlib.pyplot as plt\n",
    "from IPython import display\n",
    "import ipywidgets as widgets\n",
    "\n",
    "class Model:\n",
    "    \"\"\"\n",
    "    Software lifecycle carbon cost model class\n",
    "    \"\"\"\n",
    "    def __init__(self):\n",
    "        #Inputs\n",
    "        self.inputs = {\n",
    "            \"disks\": ModelInput(10, 3000, 'Number of disks: '),\n",
    "            \"servers\" : ModelInput(6, 300, 'Number of servers : '),\n",
    "            \"data_transferred\" : ModelInput(1000000, 30000000, 'Data transferred: '),\n",
    "            \"user_hours\" : ModelInput(150000, 300000, 'Users hours:'),\n",
    "            \"spec\" : ModelInput(200, 300, 'Specifications man-days:'),\n",
    "            \"dev\" : ModelInput(2000, 3000, 'Dev man-days:'),\n",
    "            \"design\" : ModelInput(130, 3000, 'Design man-days:'),\n",
    "            \"test\" : ModelInput(200, 3000, 'Test man-days:'),\n",
    "            \"dev_servers\" : ModelInput(4, 30, 'Number of dev servers:'),\n",
    "            \"support\" : ModelInput(50, 300, 'Support man-days:'),\n",
    "            \"maintenance\" : ModelInput(700, 3000, 'Maintenance man-days:'),\n",
    "            \"run_length\" : ModelInput(365, 3000, 'Run phase duration:'),\n",
    "            \"build_length\" : ModelInput(365, 3000, 'Build phase duration:'),\n",
    "        }\n",
    "        self.project_length = None\n",
    "\n",
    "        # Outputs\n",
    "        self.network_co2 = None\n",
    "        self.management_co2 = None\n",
    "        self.support_co2 = None\n",
    "        self.servers_co2 = None\n",
    "        self.implementation_co2 = None\n",
    "        self.spec_co2 = None\n",
    "        self.test_co2 = None\n",
    "        self.design_co2 = None\n",
    "        self.dev_co2 = None\n",
    "        self.run_co2 = None\n",
    "        self.build_co2 = None\n",
    "        self.infra_dev_co2 = None\n",
    "        self.maintenance_co2 = None\n",
    "        self.storage_co2 = None\n",
    "        self.infra_co2 = None\n",
    "        self.user_co2 = None\n",
    "\n",
    "        self.compute()\n",
    "\n",
    "    def compute(self):\n",
    "        \"\"\"\n",
    "        Compute the phases carbon cost retrieving the inputs from the sliders\n",
    "        \"\"\"\n",
    "        self.project_length = self.inputs[\"run_length\"].get_value() - self.inputs[\"build_length\"].get_value()\n",
    "        self.compute_build()\n",
    "        self.compute_run()\n",
    "\n",
    "        \n",
    "    def compute_build(self):\n",
    "        \"\"\"\n",
    "        Compute the build phase outputs\n",
    "        \"\"\"\n",
    "\n",
    "        ## Requirement analysis and specifications\n",
    "        self.spec_co2 = self.inputs[\"spec\"].get_value() * MAN_DAY_CO2\n",
    "\n",
    "        ## Implementation\n",
    "        self.infra_dev_co2 = self.inputs[\"dev_servers\"].get_value() * SERVER_DAY * self.inputs[\"build_length\"].get_value()\n",
    "        self.dev_co2 = self.inputs[\"dev\"].get_value() * MAN_DAY_CO2\n",
    "        self.design_co2 = self.inputs[\"design\"].get_value() * MAN_DAY_CO2\n",
    "        self.test_co2 = self.inputs[\"test\"].get_value() * MAN_DAY_CO2\n",
    "\n",
    "        self.implementation_co2 = self.inputs[\"dev\"].get_value() * MAN_DAY_CO2 + self.infra_dev_co2\n",
    "\n",
    "        # Management\n",
    "        self.management_co2 = self.inputs[\"build_length\"].get_value() * MAN_DAY_CO2\n",
    "\n",
    "        # Global\n",
    "        self.build_co2 = self.spec_co2 + self.implementation_co2 + self.management_co2\n",
    "\n",
    "    def compute_run(self):\n",
    "        \"\"\"\n",
    "        Compute the run phase outputs\n",
    "        \"\"\"\n",
    "\n",
    "        # Support\n",
    "        self.support_co2 = self.inputs[\"support\"].get_value() * MAN_DAY_CO2\n",
    "\n",
    "        # Maintenance\n",
    "        self.maintenance_co2 = self.inputs[\"maintenance\"].get_value() * MAN_DAY_CO2\n",
    "\n",
    "        # Infra\n",
    "        self.network_co2 = self.inputs[\"data_transferred\"].get_value() * CO2_GB\n",
    "        self.servers_co2 = self.inputs[\"servers\"].get_value() * self.inputs[\"run_length\"].get_value() * SERVER_DAY\n",
    "        self.storage_co2 = self.inputs[\"disks\"].get_value() * self.inputs[\"run_length\"].get_value() * DISK_DAY\n",
    "\n",
    "        self.infra_co2 = self.network_co2 + self.servers_co2 + self.storage_co2\n",
    "\n",
    "        # User\n",
    "        self.user_co2 = self.inputs[\"user_hours\"].get_value() * USER_HOUR_CO2\n",
    "\n",
    "        # Global\n",
    "        self.run_co2 = self.support_co2 + self.maintenance_co2 + self.infra_co2 + self.user_co2\n",
    "\n",
    "\n",
    "class ModelInput:\n",
    "    \"\"\"\n",
    "    Inputs from the model, gives sliders and corresponding values\n",
    "    \"\"\"\n",
    "    def __init__(self, value, max_value, desc):\n",
    "        style = {'description_width': 'initial'}\n",
    "        self.slider = widgets.IntSlider(min=0, max=max_value, value= value, description = desc, layout=widgets.Layout(width='400px'), style = style, readout=False)\n",
    "        d = widgets.IntText(continuous_update=True, layout=widgets.Layout(width='80px'))\n",
    "        widgets.link((self.slider, 'value'), (d, 'value'))\n",
    "        self.widget = widgets.HBox([self.slider, d])\n",
    "\n",
    "    def get_value(self):\n",
    "        return self.slider.value"
   ]
  },
  {
   "cell_type": "markdown",
   "metadata": {},
   "source": [
    "# Output"
   ]
  },
  {
   "cell_type": "code",
   "execution_count": 18,
   "metadata": {},
   "outputs": [
    {
     "ename": "NameError",
     "evalue": "name 'MAN_DAY_CO2' is not defined",
     "output_type": "error",
     "traceback": [
      "\u001b[0;31m---------------------------------------------------------------------------\u001b[0m",
      "\u001b[0;31mNameError\u001b[0m                                 Traceback (most recent call last)",
      "\u001b[0;32m/tmp/ipykernel_800632/1225103808.py\u001b[0m in \u001b[0;36m<module>\u001b[0;34m\u001b[0m\n\u001b[1;32m     67\u001b[0m \u001b[0;34m\u001b[0m\u001b[0m\n\u001b[1;32m     68\u001b[0m \u001b[0;34m\u001b[0m\u001b[0m\n\u001b[0;32m---> 69\u001b[0;31m \u001b[0mmodel\u001b[0m \u001b[0;34m=\u001b[0m \u001b[0mModel\u001b[0m\u001b[0;34m(\u001b[0m\u001b[0;34m)\u001b[0m\u001b[0;34m\u001b[0m\u001b[0;34m\u001b[0m\u001b[0m\n\u001b[0m\u001b[1;32m     70\u001b[0m \u001b[0;34m\u001b[0m\u001b[0m\n\u001b[1;32m     71\u001b[0m \u001b[0;31m# Button refresh\u001b[0m\u001b[0;34m\u001b[0m\u001b[0;34m\u001b[0m\u001b[0m\n",
      "\u001b[0;32m/tmp/ipykernel_800632/2938861058.py\u001b[0m in \u001b[0;36m__init__\u001b[0;34m(self)\u001b[0m\n\u001b[1;32m     45\u001b[0m         \u001b[0mself\u001b[0m\u001b[0;34m.\u001b[0m\u001b[0muser_co2\u001b[0m \u001b[0;34m=\u001b[0m \u001b[0;32mNone\u001b[0m\u001b[0;34m\u001b[0m\u001b[0;34m\u001b[0m\u001b[0m\n\u001b[1;32m     46\u001b[0m \u001b[0;34m\u001b[0m\u001b[0m\n\u001b[0;32m---> 47\u001b[0;31m         \u001b[0mself\u001b[0m\u001b[0;34m.\u001b[0m\u001b[0mcompute\u001b[0m\u001b[0;34m(\u001b[0m\u001b[0;34m)\u001b[0m\u001b[0;34m\u001b[0m\u001b[0;34m\u001b[0m\u001b[0m\n\u001b[0m\u001b[1;32m     48\u001b[0m \u001b[0;34m\u001b[0m\u001b[0m\n\u001b[1;32m     49\u001b[0m     \u001b[0;32mdef\u001b[0m \u001b[0mcompute\u001b[0m\u001b[0;34m(\u001b[0m\u001b[0mself\u001b[0m\u001b[0;34m)\u001b[0m\u001b[0;34m:\u001b[0m\u001b[0;34m\u001b[0m\u001b[0;34m\u001b[0m\u001b[0m\n",
      "\u001b[0;32m/tmp/ipykernel_800632/2938861058.py\u001b[0m in \u001b[0;36mcompute\u001b[0;34m(self)\u001b[0m\n\u001b[1;32m     52\u001b[0m         \"\"\"\n\u001b[1;32m     53\u001b[0m         \u001b[0mself\u001b[0m\u001b[0;34m.\u001b[0m\u001b[0mproject_length\u001b[0m \u001b[0;34m=\u001b[0m \u001b[0mself\u001b[0m\u001b[0;34m.\u001b[0m\u001b[0minputs\u001b[0m\u001b[0;34m[\u001b[0m\u001b[0;34m\"run_length\"\u001b[0m\u001b[0;34m]\u001b[0m\u001b[0;34m.\u001b[0m\u001b[0mget_value\u001b[0m\u001b[0;34m(\u001b[0m\u001b[0;34m)\u001b[0m \u001b[0;34m-\u001b[0m \u001b[0mself\u001b[0m\u001b[0;34m.\u001b[0m\u001b[0minputs\u001b[0m\u001b[0;34m[\u001b[0m\u001b[0;34m\"build_length\"\u001b[0m\u001b[0;34m]\u001b[0m\u001b[0;34m.\u001b[0m\u001b[0mget_value\u001b[0m\u001b[0;34m(\u001b[0m\u001b[0;34m)\u001b[0m\u001b[0;34m\u001b[0m\u001b[0;34m\u001b[0m\u001b[0m\n\u001b[0;32m---> 54\u001b[0;31m         \u001b[0mself\u001b[0m\u001b[0;34m.\u001b[0m\u001b[0mcompute_build\u001b[0m\u001b[0;34m(\u001b[0m\u001b[0;34m)\u001b[0m\u001b[0;34m\u001b[0m\u001b[0;34m\u001b[0m\u001b[0m\n\u001b[0m\u001b[1;32m     55\u001b[0m         \u001b[0mself\u001b[0m\u001b[0;34m.\u001b[0m\u001b[0mcompute_run\u001b[0m\u001b[0;34m(\u001b[0m\u001b[0;34m)\u001b[0m\u001b[0;34m\u001b[0m\u001b[0;34m\u001b[0m\u001b[0m\n\u001b[1;32m     56\u001b[0m \u001b[0;34m\u001b[0m\u001b[0m\n",
      "\u001b[0;32m/tmp/ipykernel_800632/2938861058.py\u001b[0m in \u001b[0;36mcompute_build\u001b[0;34m(self)\u001b[0m\n\u001b[1;32m     62\u001b[0m \u001b[0;34m\u001b[0m\u001b[0m\n\u001b[1;32m     63\u001b[0m         \u001b[0;31m## Requirement analysis and specifications\u001b[0m\u001b[0;34m\u001b[0m\u001b[0;34m\u001b[0m\u001b[0m\n\u001b[0;32m---> 64\u001b[0;31m         \u001b[0mself\u001b[0m\u001b[0;34m.\u001b[0m\u001b[0mspec_co2\u001b[0m \u001b[0;34m=\u001b[0m \u001b[0mself\u001b[0m\u001b[0;34m.\u001b[0m\u001b[0minputs\u001b[0m\u001b[0;34m[\u001b[0m\u001b[0;34m\"spec\"\u001b[0m\u001b[0;34m]\u001b[0m\u001b[0;34m.\u001b[0m\u001b[0mget_value\u001b[0m\u001b[0;34m(\u001b[0m\u001b[0;34m)\u001b[0m \u001b[0;34m*\u001b[0m \u001b[0mMAN_DAY_CO2\u001b[0m\u001b[0;34m\u001b[0m\u001b[0;34m\u001b[0m\u001b[0m\n\u001b[0m\u001b[1;32m     65\u001b[0m \u001b[0;34m\u001b[0m\u001b[0m\n\u001b[1;32m     66\u001b[0m         \u001b[0;31m## Implementation\u001b[0m\u001b[0;34m\u001b[0m\u001b[0;34m\u001b[0m\u001b[0m\n",
      "\u001b[0;31mNameError\u001b[0m: name 'MAN_DAY_CO2' is not defined"
     ]
    }
   ],
   "source": [
    "def draw_model(model: Model):\n",
    "    \"\"\"\n",
    "    Pie chart model representation\n",
    "    :param model: Model to pie\n",
    "    \"\"\"\n",
    "    fig1, ax1 = plt.subplots()\n",
    "    ax1.pie([model.build_co2, model.run_co2], labels=[\"Build\", \"Run\"])\n",
    "    ax1.set_title(\"Global\")\n",
    "\n",
    "    fig, ((ax2, ax3), (ax4, ax5)) = plt.subplots(2, 2, constrained_layout=True)\n",
    "    ax2.pie(\n",
    "        [model.spec_co2, model.implementation_co2, model.management_co2],\n",
    "        labels=[\"Spec\", \"Implementation\", \"Management\"],\n",
    "    )\n",
    "    ax2.set_title(\"Build\")\n",
    "    ax3.pie(\n",
    "        [model.dev_co2, model.design_co2, model.test_co2, model.infra_dev_co2],\n",
    "        labels=[\"Dev\", \"Design\", \"Test\", \"Infra\"],\n",
    "    )\n",
    "    ax3.set_title(\"Implementation\")\n",
    "\n",
    "    ax4.pie(\n",
    "        [model.support_co2, model.maintenance_co2, model.infra_co2, model.user_co2],\n",
    "        labels=[\"Support\", \"Maintenance\", \"Infra\", \"User\"],\n",
    "    )\n",
    "    ax4.set_title(\"Run\")\n",
    "    ax5.pie(\n",
    "        [model.network_co2, model.storage_co2, model.servers_co2],\n",
    "        labels=[\"Network\", \"Storage\", \"Compute\"],\n",
    "    )\n",
    "    ax5.set_title(\"Infra\")\n",
    "\n",
    "    datas = [\n",
    "        model.network_co2,\n",
    "        model.management_co2,\n",
    "        model.support_co2,\n",
    "        model.servers_co2,\n",
    "        model.spec_co2,\n",
    "        model.test_co2,\n",
    "        model.design_co2,\n",
    "        model.dev_co2,\n",
    "        model.infra_dev_co2,\n",
    "        model.maintenance_co2,\n",
    "        model.storage_co2,\n",
    "        model.user_co2,\n",
    "    ]\n",
    "    labels = [\n",
    "        \"network_co2\",\n",
    "        \"management_co2\",\n",
    "        \"support_co2\",\n",
    "        \"servers_co2\",\n",
    "        \"spec_co2\",\n",
    "        \"test_co2\",\n",
    "        \"design_co2\",\n",
    "        \"dev_co2\",\n",
    "        \"infra_dev_co2\",\n",
    "        \"maintenance_co2\",\n",
    "        \"storage_co2\",\n",
    "        \"user_co2\",\n",
    "    ]\n",
    "\n",
    "    fig3, ax6 = plt.subplots()\n",
    "    ax6.pie(datas, labels=labels)\n",
    "    ax6.set_title(\"Global\")\n",
    "\n",
    "    plt.show()\n",
    "\n",
    "\n",
    "model = Model()\n",
    "\n",
    "# Button refresh\n",
    "button_refresh = widgets.Button(description=\"Refresh\")\n",
    "\n",
    "\n",
    "def on_button_clicked(b):\n",
    "    with out:\n",
    "        display.clear_output(True)\n",
    "        model.compute()\n",
    "        draw_model(model)\n",
    "\n",
    "\n",
    "button_refresh.on_click(on_button_clicked)\n",
    "\n",
    "# Sliders\n",
    "vbox_build = widgets.VBox(\n",
    "    [\n",
    "        widgets.Text(value=\"Build: \", disabled=True),\n",
    "        model.inputs[\"spec\"].widget,\n",
    "        model.inputs[\"dev\"].widget,\n",
    "        model.inputs[\"design\"].widget,\n",
    "        model.inputs[\"test\"].widget,\n",
    "        model.inputs[\"dev_servers\"].widget,\n",
    "        model.inputs[\"build_length\"].widget,\n",
    "    ]\n",
    ")\n",
    "\n",
    "vbox_run = widgets.VBox(\n",
    "    [\n",
    "        widgets.Text(value=\"Run: \", disabled=True),\n",
    "        model.inputs[\"disks\"].widget,\n",
    "        model.inputs[\"servers\"].widget,\n",
    "        model.inputs[\"data_transferred\"].widget,\n",
    "        model.inputs[\"user_hours\"].widget,\n",
    "        model.inputs[\"support\"].widget,\n",
    "        model.inputs[\"maintenance\"].widget,\n",
    "        model.inputs[\"run_length\"].widget,\n",
    "    ]\n",
    ")\n",
    "\n",
    "vbox_sliders = widgets.VBox([vbox_build, vbox_run, button_refresh])\n",
    "\n",
    "# Graph\n",
    "out = widgets.Output()\n",
    "with out:\n",
    "    draw_model(model)\n",
    "\n",
    "\n",
    "# Global\n",
    "widgets.HBox([vbox_sliders, out])\n"
   ]
  }
 ],
 "metadata": {
  "kernelspec": {
   "display_name": "Python 3",
   "language": "python",
   "name": "python3"
  },
  "language_info": {
   "codemirror_mode": {
    "name": "ipython",
    "version": 3
   },
   "file_extension": ".py",
   "mimetype": "text/x-python",
   "name": "python",
   "nbconvert_exporter": "python",
   "pygments_lexer": "ipython3",
   "version": "3.9.7"
  }
 },
 "nbformat": 4,
 "nbformat_minor": 0
}
