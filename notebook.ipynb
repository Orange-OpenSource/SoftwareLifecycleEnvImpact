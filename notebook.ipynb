{
 "cells": [
  {
   "cell_type": "code",
   "execution_count": 4,
   "metadata": {
    "pycharm": {
     "name": "#%%\n"
    }
   },
   "outputs": [
    {
     "data": {
      "application/vnd.jupyter.widget-view+json": {
       "model_id": "80ccade1cffc43c7958e27147964e998",
       "version_major": 2,
       "version_minor": 0
      },
      "text/plain": [
       "interactive(children=(IntSlider(value=2000, description='Dev man-days', max=3000), IntSlider(value=130, descri…"
      ]
     },
     "metadata": {},
     "output_type": "display_data"
    }
   ],
   "source": [
    "from model.tasks import Task\n",
    "from model.projects import StandardProject\n",
    "import ipywidgets as widgets\n",
    "import matplotlib.pyplot as plt\n",
    "\n",
    "p = StandardProject()\n",
    "tasks = p.get_impact_by_task()\n",
    "\n",
    "\n",
    "def draw_task(task: Task):\n",
    "    fig1, ax1 = plt.subplots()\n",
    "    emissions = [s.get_impact() for s in task.subtasks]\n",
    "    names = [s.name for s in task.subtasks]\n",
    "    ax1.pie(emissions, labels=names)\n",
    "    ax1.set_title(task.name)\n",
    "\n",
    "\n",
    "def draw_tasks(task: Task):\n",
    "    draw_task(task)\n",
    "    for subtask in task.subtasks:\n",
    "        draw_task(subtask)\n",
    "\n",
    "\n",
    "@widgets.interact(\n",
    "    dev_days=widgets.IntSlider(\n",
    "        min=0, max=3000, value=p.dev_days, description=\"Dev man-days\"\n",
    "    ),\n",
    "    design_days=widgets.IntSlider(\n",
    "        min=0, max=3000, value=p.design_days, description=\"Design man-days\"\n",
    "    ),\n",
    "    spec_days=widgets.IntSlider(\n",
    "        min=0, max=300, value=p.spec_days, description=\"Specifications man-days\"\n",
    "    ),\n",
    "    management_days=widgets.IntSlider(\n",
    "        min=0, max=1000, value=p.management_days, description=\"Management man-days\"\n",
    "    ),\n",
    "    maintenance_days=widgets.IntSlider(\n",
    "        min=0, max=3000, value=p.maintenance_days, description=\"Maintenance man-days\"\n",
    "    ),\n",
    "    user_hours=widgets.IntSlider(\n",
    "        min=0, max=300000, value=p.user_hours, description=\"User hours\"\n",
    "    ),\n",
    "    electricity_mix=widgets.FloatSlider(\n",
    "        min=0, max=2, value=p.electricity_mix, description=\"Electricity mix\"\n",
    "    ),\n",
    "    pue=widgets.FloatSlider(min=0, max=3, value=p.pue, description=\"PUE\"),\n",
    "    server_hours=widgets.IntSlider(\n",
    "        min=0, max=1000, value=p.server_hours, description=\"Server hours\"\n",
    "    ),\n",
    "    storage_hours=widgets.IntSlider(\n",
    "        min=0, max=1000, value=p.storage_hours, description=\"Storage hours\"\n",
    "    ),\n",
    "    network_gb=widgets.IntSlider(\n",
    "        min=0, max=30000000, value=p.network_gb, description=\"Data transferred\"\n",
    "    ),\n",
    ")\n",
    "def draw(\n",
    "    dev_days,\n",
    "    design_days,\n",
    "    spec_days,\n",
    "    management_days,\n",
    "    maintenance_days,\n",
    "    user_hours,\n",
    "    electricity_mix,\n",
    "    pue,\n",
    "    server_hours,\n",
    "    storage_hours,\n",
    "    network_gb,\n",
    "):\n",
    "    p.set_dev_days(dev_days)\n",
    "    p.set_design_days(design_days)\n",
    "    p.set_spec_days(spec_days)\n",
    "    p.set_management_days(management_days)\n",
    "    p.set_maintenance_days(maintenance_days)\n",
    "    p.set_user_hours(user_hours)\n",
    "    p.set_electricity_mix(electricity_mix)\n",
    "    p.set_pue(pue)\n",
    "    p.set_server_hours(server_hours)\n",
    "    p.set_storage_hours(storage_hours)\n",
    "    p.set_network_gb(network_gb)\n",
    "    draw_tasks(p.root_task)"
   ]
  },
  {
   "cell_type": "code",
   "execution_count": null,
   "metadata": {
    "collapsed": false,
    "pycharm": {
     "name": "#%%\n"
    }
   },
   "outputs": [],
   "source": []
  }
 ],
 "metadata": {
  "kernelspec": {
   "display_name": "Python 3",
   "language": "python",
   "name": "python3"
  },
  "language_info": {
   "codemirror_mode": {
    "name": "ipython",
    "version": 3
   },
   "file_extension": ".py",
   "mimetype": "text/x-python",
   "name": "python",
   "nbconvert_exporter": "python",
   "pygments_lexer": "ipython3",
   "version": "3.9.7"
  }
 },
 "nbformat": 4,
 "nbformat_minor": 0
}