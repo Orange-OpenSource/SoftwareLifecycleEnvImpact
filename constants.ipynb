{
 "cells": [
  {
   "cell_type": "markdown",
   "metadata": {
    "collapsed": true,
    "pycharm": {
     "name": "#%% md\n"
    }
   },
   "source": [
    "# Transport\n",
    "\n",
    "Ratio par jour à partir des modes de transport + distance des cadres\n",
    "\n",
    "- Moyenne distance travail cadre: 19km [Observatoire des territoires](https://www.observatoire-des-territoires.gouv.fr/kiosque/2019-mobilite-10-les-cadres-parcourent-chaque-annee-pres-de-3000-km-de-plus-que-les)\n",
    "- Ratio Déplacements cadres et professions intellectuelles, toutes activités dans un rayon de 80km: [INSEE](https://www.statistiques.developpement-durable.gouv.fr/resultats-detailles-de-lenquete-mobilite-des-personnes-de-2019?rubrique=60&dossier=1345)\n",
    "    1. Marche à pied: 1.3818\n",
    "    2. Vélo: 1.44675\n",
    "    3. Transport en commun: 17.77558\n",
    "    4. Voiture: 76.32407\n",
    "    5. Deux roues motorisé: 2.91722\n",
    "    6. Autre: 0.15459\n",
    "\n",
    "- Emissions transports:\n",
    "    - Voiture - Motorisation moyenne - 2018: \n",
    "        - 0.218 kg CO2-eq [ADEME](https://bilans-ges.ademe.fr/fr/basecarbone/donnees-consulter/liste-element/categorie/151)\n",
    "    - Vélo\n",
    "        - Moyenne fabrication [Trek](https://view.publitas.com/trek-bicycle/trek-bicycle-2021-sustainability-report/page/5): 174kg CO2\n",
    "        - 50 000km (voir notes)\n",
    "    - Métro, tramway, trolleybus - 2018 - Agglomération de 100 000 à 250 000 habitants\n",
    "        - 0.00503 kgCO2e/passager.km [ADEME](https://bilans-ges.ademe.fr/fr/accueil/documentation-gene/index/page/Ferroviaire2)\n",
    "    - Moto > 250 cm3 - Mixte - 2018 \n",
    "        - 0.191 kgCO2e/km [ADEME](https://bilans-ges.ademe.fr/fr/accueil/documentation-gene/index/page/Routier2)\n"
   ]
  },
  {
   "cell_type": "code",
   "execution_count": 1,
   "metadata": {
    "collapsed": false,
    "pycharm": {
     "name": "#%%\n"
    }
   },
   "outputs": [
    {
     "name": "stdout",
     "output_type": "stream",
     "text": [
      "6.583113447812\n"
     ]
    }
   ],
   "source": [
    "CAR_CO2_KM = 0.218\n",
    "BIKE_CO2_KM = 174 / 50000  # 0,00348\n",
    "PUBLIC_TRANSPORT_CO2_KM = 0.00503\n",
    "MOTORBIKE_CO2_KM = 0.191\n",
    "\n",
    "FOOT_PERCENTAGE = 1.3818\n",
    "BIKE_PERCENTAGE = 1.44675\n",
    "PUBLIC_TRANSPORT_PERCENTAGE = 17.77558\n",
    "CAR_PERCENTAGE = 76.32407 + 0.15459  # other categories (tractors...)\n",
    "MOTORBIKE_PERCENTAGE = 2.91722\n",
    "\n",
    "AVG_KM_DAY = 19 * 2\n",
    "\n",
    "mixed_emissions_km = (\n",
    "                             FOOT_PERCENTAGE * 0\n",
    "                             + BIKE_PERCENTAGE * BIKE_CO2_KM\n",
    "                             + PUBLIC_TRANSPORT_PERCENTAGE * PUBLIC_TRANSPORT_CO2_KM\n",
    "                             + CAR_PERCENTAGE * CAR_CO2_KM\n",
    "                             + MOTORBIKE_PERCENTAGE * MOTORBIKE_CO2_KM\n",
    "                     ) / 100\n",
    "\n",
    "transport_co2_person = mixed_emissions_km * AVG_KM_DAY\n",
    "print(transport_co2_person)"
   ]
  },
  {
   "cell_type": "markdown",
   "metadata": {},
   "source": [
    "# Buildings\n",
    "\n",
    "- Surface par salarié: 18 m2/poste avec un taux de bureaux de 70% [Legifrance](https://www.legifrance.gouv.fr/jorf/id/JORFTEXT000042994780)\n",
    "- ACV bureaux: 3,9 t eqCO2/m2 [Observatoire de l'immobilier durable](https://resources.taloen.fr/resources/documents/7765_191210_poids_carbone_ACV_vdef.pdf)\n",
    "    - 2,3t travaux\n",
    "    - 1,6t exploitation\n",
    "    - 50 ans d'utilisation"
   ]
  },
  {
   "cell_type": "code",
   "execution_count": 2,
   "metadata": {
    "collapsed": false,
    "pycharm": {
     "name": "#%%\n"
    }
   },
   "outputs": [
    {
     "name": "stdout",
     "output_type": "stream",
     "text": [
      "5.495107632093934\n"
     ]
    }
   ],
   "source": [
    "OFFICE_EMISSIONS_SQR_METER_DAY = 3900 / (50 * 365)  # 0,21\n",
    "# 18m2/office are 70% of the building\n",
    "office_co2_person = ((18 * 100) / 70) * OFFICE_EMISSIONS_SQR_METER_DAY\n",
    "\n",
    "print(office_co2_person)"
   ]
  },
  {
   "cell_type": "markdown",
   "metadata": {
    "collapsed": false,
    "pycharm": {
     "name": "#%% md\n"
    }
   },
   "source": [
    "# Servers\n",
    "\n",
    "- Electricité - 2020 - mix moyen - consommation: 0.0599 kgCO2e/kWh [ADEME](https://bilans-ges.ademe.fr/fr/accueil/documentation-gene/index/page/Electricite_reglementaire)\n",
    "- Serveur [Boavitza](https://github.com/Boavizta/environmental-footprint-data)\n",
    "    - Fabrication: 1613.25\n",
    "    - Life expectency: 3.89\n",
    "    - Conso RUN = 1100 (Orange) \n",
    "    - Conso IDLE = 234 (Orange)\n",
    "\n",
    "- Réseau:\n",
    "    - 1,5g / GO, (Orange)"
   ]
  },
  {
   "cell_type": "code",
   "execution_count": 3,
   "metadata": {
    "collapsed": false,
    "pycharm": {
     "name": "#%%\n"
    }
   },
   "outputs": [
    {
     "name": "stdout",
     "output_type": "stream",
     "text": [
      "2.9480188516448917\n"
     ]
    }
   ],
   "source": [
    "ELECTRICITY_MIX = 0.0599\n",
    "\n",
    "SERVER_POWER_IDLE = 234\n",
    "SERVER_POWER_RUN = 1100\n",
    "SERVER_LIFE = 3.89\n",
    "SERVER_FABRICATION_CO2 = 1613.25\n",
    "SERVER_USAGE  = 0.7\n",
    "PUE = 1.5\n",
    "\n",
    "amortization_day = SERVER_FABRICATION_CO2 / (SERVER_LIFE * 365)\n",
    "\n",
    "wh = (SERVER_POWER_RUN - SERVER_POWER_IDLE) * SERVER_USAGE + SERVER_POWER_IDLE\n",
    "wh_pue = wh * PUE\n",
    "kwh_day = (wh_pue * 24) / 1000\n",
    "server_day = kwh_day * ELECTRICITY_MIX + amortization_day\n",
    "print(server_day)"
   ]
  },
  {
   "cell_type": "markdown",
   "metadata": {
    "collapsed": false,
    "pycharm": {
     "name": "#%% md\n"
    }
   },
   "source": [
    "# Disks\n",
    "\n",
    "- 250 kg CO2-eq pour un disque 4TO\n",
    "- 4 ans (Orange)\n",
    "- 0,89 W/h HDD, 1,52 W/h SSD pour 1 TO (Orange)"
   ]
  },
  {
   "cell_type": "code",
   "execution_count": 4,
   "metadata": {
    "collapsed": false,
    "pycharm": {
     "name": "#%%\n"
    }
   },
   "outputs": [
    {
     "name": "stdout",
     "output_type": "stream",
     "text": [
      "0.013110912000000002\n"
     ]
    }
   ],
   "source": [
    "HDD_TB_CONS = 0.89\n",
    "SSD_TB_CONS = 1.52\n",
    "\n",
    "DISK_SIZE = 4\n",
    "DISK_LIFE = 4\n",
    "DISK_FABRICATION_CO2 = 250\n",
    "\n",
    "wh_to = SSD_TB_CONS\n",
    "wh_disk = DISK_SIZE * wh_to\n",
    "wh_pue = wh_disk * PUE\n",
    "kwh_day = (wh_pue * 24) / 1000\n",
    "disk_day = kwh_day * ELECTRICITY_MIX\n",
    "\n",
    "print(disk_day)"
   ]
  },
  {
   "cell_type": "markdown",
   "metadata": {
    "collapsed": false,
    "pycharm": {
     "name": "#%% md\n"
    }
   },
   "source": [
    "# Users\n",
    "\n",
    "- Smartphone: \n",
    "    - Par jour: \n",
    "        - 3,12h [Article](https://ieeexplore.ieee.org/abstract/document/6360448)\n",
    "        - 2,79 [Article](https://www.ncbi.nlm.nih.gov/pmc/articles/PMC7960745/)\n",
    "\n",
    "- Ordinateur portable :\n",
    "    - [ADEME](https://bilans-ges.ademe.fr/documentation/UPLOAD_DOC_FR/index.htm?ordinateurs_et_equuipements_pe.htm):\n",
    "        - 169 kg CO2-eq \n",
    "        - 5,6 ans [EU](https://www.eup-network.de/fileadmin/user_upload/Produktgruppen/Lots/Final_Documents/EuP_Lot3_PC_FinalReport.pdf)\n",
    "    - [Boavitza](https://github.com/Boavizta/environmental-footprint-data)\n",
    "        - 307.37 kg\n",
    "        - 4.34 ans\n",
    "\n",
    "Ratio 50/50 accès smartphone/laptop"
   ]
  },
  {
   "cell_type": "code",
   "execution_count": 1,
   "metadata": {
    "collapsed": false,
    "pycharm": {
     "name": "#%%\n"
    }
   },
   "outputs": [
    {
     "name": "stdout",
     "output_type": "stream",
     "text": [
      "0.0333428327821832\n"
     ]
    }
   ],
   "source": [
    "SMARTPHONE_CO2 = 88.75\n",
    "SMARTPHONE_LIFE = 2\n",
    "SMARTPHONE_DAILY_USE = 3.12\n",
    "\n",
    "LAPTOP_CO2 = 307.37\n",
    "LAPTOP_LIFE = 4.34\n",
    "PC_DAILY_USE = 7\n",
    "\n",
    "\n",
    "smartphone_day_co2 = SMARTPHONE_CO2 / (SMARTPHONE_LIFE * 365)\n",
    "smartphone_hour_co2 = smartphone_day_co2 / SMARTPHONE_DAILY_USE\n",
    "\n",
    "laptop_day_co2 = LAPTOP_CO2 / (LAPTOP_LIFE * 365)\n",
    "laptop_hour_co2 = laptop_day_co2 / PC_DAILY_USE\n",
    "\n",
    "user_hour_co2 = laptop_hour_co2 * 0.5 + smartphone_hour_co2 * 0.5\n",
    "\n",
    "print(user_hour_co2)"
   ]
  },
  {
   "cell_type": "code",
   "execution_count": null,
   "metadata": {},
   "outputs": [],
   "source": []
  },
  {
   "cell_type": "code",
   "execution_count": null,
   "metadata": {},
   "outputs": [],
   "source": []
  }
 ],
 "metadata": {
  "kernelspec": {
   "display_name": "Python 3",
   "language": "python",
   "name": "python3"
  },
  "language_info": {
   "codemirror_mode": {
    "name": "ipython",
    "version": 3
   },
   "file_extension": ".py",
   "mimetype": "text/x-python",
   "name": "python",
   "nbconvert_exporter": "python",
   "pygments_lexer": "ipython3",
   "version": "3.9.7"
  }
 },
 "nbformat": 4,
 "nbformat_minor": 0
}
